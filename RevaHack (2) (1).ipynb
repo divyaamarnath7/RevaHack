{
 "cells": [
  {
   "cell_type": "markdown",
   "metadata": {
    "id": "bH0Eih-MbfML"
   },
   "source": [
    "**IMPORTING THE DEPENDENCIES**"
   ]
  },
  {
   "cell_type": "code",
   "execution_count": null,
   "metadata": {
    "id": "xGhRcLjjO25M"
   },
   "outputs": [],
   "source": [
    "import numpy as np\n",
    "import pickle\n",
    "import cv2\n",
    "import os\n",
    "import matplotlib.pyplot as plt\n",
    "from os import listdir\n",
    "from sklearn.preprocessing import LabelBinarizer\n",
    "from tensorflow.keras.layers import (\n",
    "    BatchNormalization, SeparableConv2D, MaxPooling2D, Activation, Flatten, Dropout, Dense\n",
    ")\n",
    "from keras.preprocessing.image import ImageDataGenerator\n",
    "from tensorflow.keras.optimizers import(Adam)\n",
    "from keras.preprocessing import image\n",
    "from keras.preprocessing.image import img_to_array\n",
    "from sklearn.preprocessing import MultiLabelBinarizer\n",
    "from sklearn.model_selection import train_test_split"
   ]
  },
  {
   "cell_type": "code",
   "execution_count": null,
   "metadata": {
    "id": "L6aNj39USYmA"
   },
   "outputs": [],
   "source": [
    "root='‪D:\\PlantVillage'"
   ]
  },
  {
   "cell_type": "markdown",
   "metadata": {
    "id": "V5GVia1nbQXF"
   },
   "source": []
  },
  {
   "cell_type": "markdown",
   "metadata": {
    "id": "DSwevnxBbRRZ"
   },
   "source": [
    "**PRE-PROCESSING THE DATA**"
   ]
  },
  {
   "cell_type": "code",
   "execution_count": null,
   "metadata": {
    "id": "94BsEj-0Y0K_"
   },
   "outputs": [],
   "source": [
    "#the dimensionsof the resized image\n",
    "img_size = tuple((200,200))\n",
    "\n",
    "# selecting the number of images that are used to train our model\n",
    "imgs = 150\n",
    "\n",
    "#providing the path of dataset \n",
    "root='‪D:\\PlantVillage'\n",
    "\n",
    "#splitting the dataset into ta\\rain and validate\n",
    "train_data = os.path.join(root,'train')\n",
    "test_data = os.path.join(root,'test')"
   ]
  },
  {
   "cell_type": "code",
   "execution_count": null,
   "metadata": {
    "id": "O26kDFaYbwx1"
   },
   "outputs": [],
   "source": [
    "#function that is used to resize the image for fitting\n",
    "def image_resize(img_dir):\n",
    " try:\n",
    "       img = cv2.imread(img_dir)\n",
    "       if img is not None:\n",
    "         img = cv2.resize(img,img_size)\n",
    "         return img_to_arr(img)\n",
    "       else:\n",
    "        return np.array([])\n",
    " except Exception as e:\n",
    "  print(f\"Error:{e}\")\n",
    "  return None    "
   ]
  },
  {
   "cell_type": "code",
   "execution_count": 14,
   "metadata": {
    "colab": {
     "base_uri": "https://localhost:8080/"
    },
    "executionInfo": {
     "elapsed": 399,
     "status": "ok",
     "timestamp": 1636530587590,
     "user": {
      "displayName": "MANASA R",
      "photoUrl": "https://lh3.googleusercontent.com/a-/AOh14GhbU2yhwo7GZrkX1ns5Ivh3vPCmQIOSOt4PoUft=s64",
      "userId": "17759654656049721750"
     },
     "user_tz": -330
    },
    "id": "iX1VeKAsn1qj",
    "outputId": "da99c7b2-7e55-4e82-cd43-4b05e256cd75"
   },
   "outputs": [
    {
     "name": "stdout",
     "output_type": "stream",
     "text": [
      "Loading\n",
      "Error : [Errno 2] No such file or directory: '\\u202aD:\\\\PlantVillage/train'\n",
      "\n",
      "Total number of images: 0\n"
     ]
    }
   ],
   "source": [
    "image_list, label_list = [], []\n",
    "\n",
    "try:\n",
    "    print(\"Loading\")\n",
    "    plant_disease_folder_list = listdir(train_data)\n",
    "    for plant_disease_folder in plant_disease_folder_list:\n",
    "        print(f\"[INFO] Processing {plant_disease_folder} ...\")\n",
    "        plant_disease_image_list = listdir(f\"{train_data}/{plant_disease_folder}/\")\n",
    "\n",
    "        for image in plant_disease_image_list[:imgs]:\n",
    "            image_directory = f\"{train_data}/{plant_disease_folder}/{image}\"\n",
    "            if image_directory.endswith(\".jpg\")==True or image_directory.endswith(\".JPG\")==True:\n",
    "                image_list.append(convert_image_to_array(image_directory))\n",
    "                label_list.append(plant_disease_folder)\n",
    "\n",
    "    print(\"[INFO] Image loading completed\")  \n",
    "except Exception as e:\n",
    "    print(f\"Error : {e}\")\n",
    "\n",
    "# Transform the loaded training image data into numpy array\n",
    "np_image_list = np.array(image_list, dtype=np.float16) / 225.0\n",
    "print()\n",
    "\n",
    "# Check the number of images loaded for training\n",
    "image_len = len(image_list)\n",
    "print(f\"Total number of images: {image_len}\")\n",
    "  \n",
    "  "
   ]
  },
  {
   "cell_type": "code",
   "execution_count": null,
   "metadata": {
    "id": "OIdZ2fSHnoXu"
   },
   "outputs": [],
   "source": []
  }
 ],
 "metadata": {
  "colab": {
   "collapsed_sections": [],
   "name": "RevaHack.ipynb",
   "provenance": []
  },
  "kernelspec": {
   "display_name": "Python 3",
   "language": "python",
   "name": "python3"
  },
  "language_info": {
   "codemirror_mode": {
    "name": "ipython",
    "version": 3
   },
   "file_extension": ".py",
   "mimetype": "text/x-python",
   "name": "python",
   "nbconvert_exporter": "python",
   "pygments_lexer": "ipython3",
   "version": "3.8.8"
  }
 },
 "nbformat": 4,
 "nbformat_minor": 1
}
